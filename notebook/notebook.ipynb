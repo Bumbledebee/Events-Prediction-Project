{
 "cells": [
  {
   "cell_type": "markdown",
   "metadata": {},
   "source": [
    "### Importing the Libraries"
   ]
  },
  {
   "cell_type": "code",
   "execution_count": 24,
   "metadata": {},
   "outputs": [],
   "source": [
    "import pandas as pd\n",
    "import os\n",
    "import sys\n",
    "sys.path.append(os.path.abspath(\"..\"))\n",
    "import utils\n",
    "from utils import helper_functions as utils"
   ]
  },
  {
   "cell_type": "markdown",
   "metadata": {},
   "source": [
    "### Uploading the Data"
   ]
  },
  {
   "cell_type": "code",
   "execution_count": 25,
   "metadata": {},
   "outputs": [],
   "source": [
    "filepath = '../data/events.csv' \n",
    "data = pd.read_csv(filepath) \n",
    "df = data.copy() "
   ]
  },
  {
   "cell_type": "markdown",
   "metadata": {},
   "source": [
    "Basic check on the what the data is and how it looks like"
   ]
  },
  {
   "cell_type": "code",
   "execution_count": 26,
   "metadata": {},
   "outputs": [
    {
     "name": "stdout",
     "output_type": "stream",
     "text": [
      "Data has 885129 rows and 9 columns with these data types:\n",
      "\n",
      "event_time        object\n",
      "event_type        object\n",
      "product_id         int64\n",
      "category_id        int64\n",
      "category_code     object\n",
      "brand             object\n",
      "price            float64\n",
      "user_id            int64\n",
      "user_session      object\n",
      "dtype: object\n",
      "\n",
      "Data row sample and full columns:\n"
     ]
    },
    {
     "data": {
      "text/html": [
       "<div>\n",
       "<style scoped>\n",
       "    .dataframe tbody tr th:only-of-type {\n",
       "        vertical-align: middle;\n",
       "    }\n",
       "\n",
       "    .dataframe tbody tr th {\n",
       "        vertical-align: top;\n",
       "    }\n",
       "\n",
       "    .dataframe thead th {\n",
       "        text-align: right;\n",
       "    }\n",
       "</style>\n",
       "<table border=\"1\" class=\"dataframe\">\n",
       "  <thead>\n",
       "    <tr style=\"text-align: right;\">\n",
       "      <th></th>\n",
       "      <th>event_time</th>\n",
       "      <th>event_type</th>\n",
       "      <th>product_id</th>\n",
       "      <th>category_id</th>\n",
       "      <th>category_code</th>\n",
       "      <th>brand</th>\n",
       "      <th>price</th>\n",
       "      <th>user_id</th>\n",
       "      <th>user_session</th>\n",
       "    </tr>\n",
       "  </thead>\n",
       "  <tbody>\n",
       "    <tr>\n",
       "      <th>399021</th>\n",
       "      <td>2020-12-05 10:48:49 UTC</td>\n",
       "      <td>cart</td>\n",
       "      <td>491348</td>\n",
       "      <td>2144415927611949295</td>\n",
       "      <td>electronics.audio.acoustic</td>\n",
       "      <td>NaN</td>\n",
       "      <td>9.92</td>\n",
       "      <td>1515915625548950294</td>\n",
       "      <td>PTLQeWRy6N</td>\n",
       "    </tr>\n",
       "    <tr>\n",
       "      <th>242470</th>\n",
       "      <td>2020-11-09 09:28:27 UTC</td>\n",
       "      <td>purchase</td>\n",
       "      <td>1521673</td>\n",
       "      <td>2144415922201296994</td>\n",
       "      <td>NaN</td>\n",
       "      <td>NaN</td>\n",
       "      <td>19.52</td>\n",
       "      <td>1515915625537334968</td>\n",
       "      <td>iKnIRIJLZG</td>\n",
       "    </tr>\n",
       "    <tr>\n",
       "      <th>813250</th>\n",
       "      <td>2021-02-16 07:38:03 UTC</td>\n",
       "      <td>view</td>\n",
       "      <td>1703409</td>\n",
       "      <td>2144415935698567627</td>\n",
       "      <td>NaN</td>\n",
       "      <td>mastech</td>\n",
       "      <td>66.19</td>\n",
       "      <td>1515915625606023491</td>\n",
       "      <td>pyzNKHDCso</td>\n",
       "    </tr>\n",
       "    <tr>\n",
       "      <th>850151</th>\n",
       "      <td>2021-02-22 13:35:51 UTC</td>\n",
       "      <td>view</td>\n",
       "      <td>4079110</td>\n",
       "      <td>2144415922427789416</td>\n",
       "      <td>computers.components.videocards</td>\n",
       "      <td>powercolor</td>\n",
       "      <td>464.52</td>\n",
       "      <td>1515915625604081922</td>\n",
       "      <td>ecW9JOAjES</td>\n",
       "    </tr>\n",
       "    <tr>\n",
       "      <th>730240</th>\n",
       "      <td>2021-02-02 19:01:09 UTC</td>\n",
       "      <td>view</td>\n",
       "      <td>879734</td>\n",
       "      <td>2144415922427789416</td>\n",
       "      <td>computers.components.videocards</td>\n",
       "      <td>gigabyte</td>\n",
       "      <td>108.63</td>\n",
       "      <td>1515915625599915370</td>\n",
       "      <td>R0MgXpNHYx</td>\n",
       "    </tr>\n",
       "  </tbody>\n",
       "</table>\n",
       "</div>"
      ],
      "text/plain": [
       "                     event_time event_type  product_id          category_id  \\\n",
       "399021  2020-12-05 10:48:49 UTC       cart      491348  2144415927611949295   \n",
       "242470  2020-11-09 09:28:27 UTC   purchase     1521673  2144415922201296994   \n",
       "813250  2021-02-16 07:38:03 UTC       view     1703409  2144415935698567627   \n",
       "850151  2021-02-22 13:35:51 UTC       view     4079110  2144415922427789416   \n",
       "730240  2021-02-02 19:01:09 UTC       view      879734  2144415922427789416   \n",
       "\n",
       "                          category_code       brand   price  \\\n",
       "399021       electronics.audio.acoustic         NaN    9.92   \n",
       "242470                              NaN         NaN   19.52   \n",
       "813250                              NaN     mastech   66.19   \n",
       "850151  computers.components.videocards  powercolor  464.52   \n",
       "730240  computers.components.videocards    gigabyte  108.63   \n",
       "\n",
       "                    user_id user_session  \n",
       "399021  1515915625548950294   PTLQeWRy6N  \n",
       "242470  1515915625537334968   iKnIRIJLZG  \n",
       "813250  1515915625606023491   pyzNKHDCso  \n",
       "850151  1515915625604081922   ecW9JOAjES  \n",
       "730240  1515915625599915370   R0MgXpNHYx  "
      ]
     },
     "execution_count": 26,
     "metadata": {},
     "output_type": "execute_result"
    }
   ],
   "source": [
    "utils.view_data(df)"
   ]
  },
  {
   "cell_type": "markdown",
   "metadata": {},
   "source": [
    "checking for duplications as well as empty or empty string rows"
   ]
  },
  {
   "cell_type": "code",
   "execution_count": 27,
   "metadata": {},
   "outputs": [
    {
     "name": "stdout",
     "output_type": "stream",
     "text": [
      "There are 655 duplicate rows, 448748 empty rows and 0 empty spaces\n",
      "Duplicate Rows:\n",
      "                     event_time event_type  product_id          category_id  \\\n",
      "511     2020-09-24 13:51:07 UTC       view      387956  2144415922427789416   \n",
      "512     2020-09-24 13:51:07 UTC       view      387956  2144415922427789416   \n",
      "974     2020-09-24 15:48:55 UTC       view      874667  2144415922738167921   \n",
      "975     2020-09-24 15:48:55 UTC       view      874667  2144415922738167921   \n",
      "4827    2020-09-25 13:15:09 UTC       view      453469  2144415924222951574   \n",
      "...                         ...        ...         ...                  ...   \n",
      "878751  2021-02-27 17:56:05 UTC       view     1571204  2144415924491387038   \n",
      "879544  2021-02-27 20:54:20 UTC       view     1027953  2144415923837075596   \n",
      "879545  2021-02-27 20:54:20 UTC       view     1027953  2144415923837075596   \n",
      "882715  2021-02-28 14:18:02 UTC       view     4078916  2144415922427789416   \n",
      "882716  2021-02-28 14:18:02 UTC       view     4078916  2144415922427789416   \n",
      "\n",
      "                           category_code     brand   price  \\\n",
      "511      computers.components.videocards      asus  104.21   \n",
      "512      computers.components.videocards      asus  104.21   \n",
      "974            computers.components.cdrw      asus   23.48   \n",
      "975            computers.components.cdrw      asus   23.48   \n",
      "4827         auto.accessories.parktronic       NaN   69.84   \n",
      "...                                  ...       ...     ...   \n",
      "878751  computers.components.motherboard      asus  146.40   \n",
      "879544        electronics.audio.acoustic       jbl  332.87   \n",
      "879545        electronics.audio.acoustic       jbl  332.87   \n",
      "882715   computers.components.videocards  sapphire  415.54   \n",
      "882716   computers.components.videocards  sapphire  415.54   \n",
      "\n",
      "                    user_id user_session  \n",
      "511     1515915625519429853   PZu2caZ5EN  \n",
      "512     1515915625519429853   PZu2caZ5EN  \n",
      "974     1515915625519457150   8wvs0vbHtv  \n",
      "975     1515915625519457150   8wvs0vbHtv  \n",
      "4827    1515915625519725870   9ofICyh8Eo  \n",
      "...                     ...          ...  \n",
      "878751  1515915625610505518   EUqy2lyCvY  \n",
      "879544  1515915625529755153   3mD3HIQ017  \n",
      "879545  1515915625529755153   3mD3HIQ017  \n",
      "882715  1515915625610828170   21hX1rWtum  \n",
      "882716  1515915625610828170   21hX1rWtum  \n",
      "\n",
      "[1284 rows x 9 columns]\n",
      "NaN Rows:\n",
      "26.69% of NaNs in the category_code column\n",
      "23.99% of NaNs in the brand column\n",
      "0.02% of NaNs in the user_session column\n"
     ]
    }
   ],
   "source": [
    "utils.check_data(df)"
   ]
  },
  {
   "cell_type": "code",
   "execution_count": 28,
   "metadata": {},
   "outputs": [
    {
     "data": {
      "text/plain": [
       "(515855, 9)"
      ]
     },
     "execution_count": 28,
     "metadata": {},
     "output_type": "execute_result"
    }
   ],
   "source": [
    "# Drop rows with NaN values\n",
    "df = df.dropna()\n",
    "\n",
    "# Drop duplicated rows\n",
    "df = df.drop_duplicates()\n",
    "\n",
    "# Display the updated dataframe shape\n",
    "df.shape"
   ]
  },
  {
   "cell_type": "markdown",
   "metadata": {},
   "source": [
    "making sure the dataset is clean"
   ]
  },
  {
   "cell_type": "code",
   "execution_count": 29,
   "metadata": {},
   "outputs": [
    {
     "name": "stdout",
     "output_type": "stream",
     "text": [
      "There are 0 duplicate rows, 0 empty rows and 0 empty spaces\n"
     ]
    }
   ],
   "source": [
    "utils.check_data(df)"
   ]
  },
  {
   "cell_type": "markdown",
   "metadata": {},
   "source": [
    "# EDA"
   ]
  },
  {
   "cell_type": "code",
   "execution_count": 30,
   "metadata": {},
   "outputs": [],
   "source": [
    "target = df.pop('event_type')\n",
    "df['event_type'] = target"
   ]
  },
  {
   "cell_type": "code",
   "execution_count": 31,
   "metadata": {},
   "outputs": [
    {
     "data": {
      "text/plain": [
       "event_time        object\n",
       "product_id         int64\n",
       "category_id        int64\n",
       "category_code     object\n",
       "brand             object\n",
       "price            float64\n",
       "user_id            int64\n",
       "user_session      object\n",
       "event_type        object\n",
       "dtype: object"
      ]
     },
     "execution_count": 31,
     "metadata": {},
     "output_type": "execute_result"
    }
   ],
   "source": [
    "df.dtypes"
   ]
  },
  {
   "cell_type": "markdown",
   "metadata": {},
   "source": [
    "From looking at the datatypes, we should convert the event_time into a datatime format"
   ]
  },
  {
   "cell_type": "code",
   "execution_count": 32,
   "metadata": {},
   "outputs": [],
   "source": [
    "df['event_time'] = pd.to_datetime(df['event_time'])"
   ]
  },
  {
   "cell_type": "markdown",
   "metadata": {},
   "source": [
    "Furthermore, we are checking how many unique entries we have per row"
   ]
  },
  {
   "cell_type": "code",
   "execution_count": 33,
   "metadata": {},
   "outputs": [
    {
     "data": {
      "text/plain": [
       "event_time       501143\n",
       "product_id        24255\n",
       "category_id         260\n",
       "category_code       104\n",
       "brand               728\n",
       "price              9478\n",
       "user_id          224971\n",
       "user_session     273421\n",
       "event_type            3\n",
       "dtype: int64"
      ]
     },
     "execution_count": 33,
     "metadata": {},
     "output_type": "execute_result"
    }
   ],
   "source": [
    "df.nunique()"
   ]
  },
  {
   "cell_type": "code",
   "execution_count": 34,
   "metadata": {},
   "outputs": [
    {
     "data": {
      "text/plain": [
       "event_type\n",
       "view        458082\n",
       "cart         34668\n",
       "purchase     23105\n",
       "Name: count, dtype: int64"
      ]
     },
     "execution_count": 34,
     "metadata": {},
     "output_type": "execute_result"
    }
   ],
   "source": [
    "df.event_type.value_counts()"
   ]
  },
  {
   "cell_type": "markdown",
   "metadata": {},
   "source": [
    "Event Type will be our target column. What we see here is a huge class imbalance. We will need to take care of that before starting the models."
   ]
  },
  {
   "cell_type": "code",
   "execution_count": 35,
   "metadata": {},
   "outputs": [
    {
     "data": {
      "text/plain": [
       "event_type\n",
       "cart         23158\n",
       "purchase     13041\n",
       "view        224741\n",
       "Name: user_id, dtype: int64"
      ]
     },
     "execution_count": 35,
     "metadata": {},
     "output_type": "execute_result"
    }
   ],
   "source": [
    "df.groupby('event_type')['user_id'].nunique()"
   ]
  },
  {
   "cell_type": "code",
   "execution_count": 36,
   "metadata": {},
   "outputs": [
    {
     "data": {
      "text/plain": [
       "event_type\n",
       "cart         34668\n",
       "purchase     23105\n",
       "view        458082\n",
       "Name: user_id, dtype: int64"
      ]
     },
     "execution_count": 36,
     "metadata": {},
     "output_type": "execute_result"
    }
   ],
   "source": [
    "df.groupby('event_type')['user_id'].count()"
   ]
  },
  {
   "cell_type": "code",
   "execution_count": 37,
   "metadata": {},
   "outputs": [
    {
     "data": {
      "text/plain": [
       "user_id\n",
       "1515915625353226922     76.480000\n",
       "1515915625353230683     62.686923\n",
       "1515915625353230922    274.400000\n",
       "1515915625353234047    156.220286\n",
       "1515915625353236157     52.490000\n",
       "Name: price, dtype: float64"
      ]
     },
     "execution_count": 37,
     "metadata": {},
     "output_type": "execute_result"
    }
   ],
   "source": [
    "user_mean_price = df.groupby('user_id')['price'].mean()\n",
    "user_mean_price.head()"
   ]
  },
  {
   "cell_type": "code",
   "execution_count": 38,
   "metadata": {},
   "outputs": [
    {
     "data": {
      "text/html": [
       "<div>\n",
       "<style scoped>\n",
       "    .dataframe tbody tr th:only-of-type {\n",
       "        vertical-align: middle;\n",
       "    }\n",
       "\n",
       "    .dataframe tbody tr th {\n",
       "        vertical-align: top;\n",
       "    }\n",
       "\n",
       "    .dataframe thead th {\n",
       "        text-align: right;\n",
       "    }\n",
       "</style>\n",
       "<table border=\"1\" class=\"dataframe\">\n",
       "  <thead>\n",
       "    <tr style=\"text-align: right;\">\n",
       "      <th></th>\n",
       "      <th>event_time</th>\n",
       "      <th>product_id</th>\n",
       "      <th>category_id</th>\n",
       "      <th>category_code</th>\n",
       "      <th>brand</th>\n",
       "      <th>price</th>\n",
       "      <th>user_id</th>\n",
       "      <th>user_session</th>\n",
       "      <th>event_type</th>\n",
       "    </tr>\n",
       "  </thead>\n",
       "  <tbody>\n",
       "    <tr>\n",
       "      <th>34</th>\n",
       "      <td>2020-09-24 12:02:34+00:00</td>\n",
       "      <td>1507291</td>\n",
       "      <td>2144415926806642904</td>\n",
       "      <td>computers.components.power_supply</td>\n",
       "      <td>supermicro</td>\n",
       "      <td>217.57</td>\n",
       "      <td>1515915625519390468</td>\n",
       "      <td>UzabYgCPva</td>\n",
       "      <td>view</td>\n",
       "    </tr>\n",
       "    <tr>\n",
       "      <th>37</th>\n",
       "      <td>2020-09-24 12:02:53+00:00</td>\n",
       "      <td>1507291</td>\n",
       "      <td>2144415926806642904</td>\n",
       "      <td>computers.components.power_supply</td>\n",
       "      <td>supermicro</td>\n",
       "      <td>217.57</td>\n",
       "      <td>1515915625519390468</td>\n",
       "      <td>UzabYgCPva</td>\n",
       "      <td>cart</td>\n",
       "    </tr>\n",
       "    <tr>\n",
       "      <th>42</th>\n",
       "      <td>2020-09-24 12:03:17+00:00</td>\n",
       "      <td>1507291</td>\n",
       "      <td>2144415926806642904</td>\n",
       "      <td>computers.components.power_supply</td>\n",
       "      <td>supermicro</td>\n",
       "      <td>217.57</td>\n",
       "      <td>1515915625519390468</td>\n",
       "      <td>xn6SHCnZtk</td>\n",
       "      <td>view</td>\n",
       "    </tr>\n",
       "    <tr>\n",
       "      <th>45</th>\n",
       "      <td>2020-09-24 12:04:10+00:00</td>\n",
       "      <td>1507291</td>\n",
       "      <td>2144415926806642904</td>\n",
       "      <td>computers.components.power_supply</td>\n",
       "      <td>supermicro</td>\n",
       "      <td>217.57</td>\n",
       "      <td>1515915625519390468</td>\n",
       "      <td>xn6SHCnZtk</td>\n",
       "      <td>purchase</td>\n",
       "    </tr>\n",
       "    <tr>\n",
       "      <th>70</th>\n",
       "      <td>2020-09-24 12:12:06+00:00</td>\n",
       "      <td>822426</td>\n",
       "      <td>2144415922360680550</td>\n",
       "      <td>computers.peripherals.camera</td>\n",
       "      <td>logitech</td>\n",
       "      <td>123.35</td>\n",
       "      <td>1515915625513574486</td>\n",
       "      <td>2gngxS29Ts</td>\n",
       "      <td>view</td>\n",
       "    </tr>\n",
       "  </tbody>\n",
       "</table>\n",
       "</div>"
      ],
      "text/plain": [
       "                  event_time  product_id          category_id  \\\n",
       "34 2020-09-24 12:02:34+00:00     1507291  2144415926806642904   \n",
       "37 2020-09-24 12:02:53+00:00     1507291  2144415926806642904   \n",
       "42 2020-09-24 12:03:17+00:00     1507291  2144415926806642904   \n",
       "45 2020-09-24 12:04:10+00:00     1507291  2144415926806642904   \n",
       "70 2020-09-24 12:12:06+00:00      822426  2144415922360680550   \n",
       "\n",
       "                        category_code       brand   price  \\\n",
       "34  computers.components.power_supply  supermicro  217.57   \n",
       "37  computers.components.power_supply  supermicro  217.57   \n",
       "42  computers.components.power_supply  supermicro  217.57   \n",
       "45  computers.components.power_supply  supermicro  217.57   \n",
       "70       computers.peripherals.camera    logitech  123.35   \n",
       "\n",
       "                user_id user_session event_type  \n",
       "34  1515915625519390468   UzabYgCPva       view  \n",
       "37  1515915625519390468   UzabYgCPva       cart  \n",
       "42  1515915625519390468   xn6SHCnZtk       view  \n",
       "45  1515915625519390468   xn6SHCnZtk   purchase  \n",
       "70  1515915625513574486   2gngxS29Ts       view  "
      ]
     },
     "execution_count": 38,
     "metadata": {},
     "output_type": "execute_result"
    }
   ],
   "source": [
    "purchasers = df[df['event_type'] == 'purchase'][['user_id']].drop_duplicates()\n",
    "purchasers_all_events = df[df['user_id'].isin(purchasers['user_id'])]\n",
    "purchasers_all_events.head()"
   ]
  },
  {
   "cell_type": "code",
   "execution_count": 39,
   "metadata": {},
   "outputs": [
    {
     "data": {
      "text/plain": [
       "event_type\n",
       "cart        1.497020\n",
       "purchase    1.771720\n",
       "view        2.038266\n",
       "dtype: float64"
      ]
     },
     "execution_count": 39,
     "metadata": {},
     "output_type": "execute_result"
    }
   ],
   "source": [
    "mean_event_type_per_user = df.groupby(['user_id', 'event_type']).size().groupby('event_type').mean()\n",
    "mean_event_type_per_user"
   ]
  },
  {
   "cell_type": "code",
   "execution_count": 40,
   "metadata": {},
   "outputs": [
    {
     "data": {
      "text/plain": [
       "(Timestamp('2020-09-24 11:57:26+0000', tz='UTC'),\n",
       " Timestamp('2021-02-28 23:59:09+0000', tz='UTC'))"
      ]
     },
     "execution_count": 40,
     "metadata": {},
     "output_type": "execute_result"
    }
   ],
   "source": [
    "df.event_time.min(), df.event_time.max()"
   ]
  },
  {
   "cell_type": "code",
   "execution_count": 41,
   "metadata": {},
   "outputs": [
    {
     "name": "stderr",
     "output_type": "stream",
     "text": [
      "/var/folders/pm/ddtx28cd2hn37jlq10mrtz700000gn/T/ipykernel_42857/373949976.py:2: UserWarning: Converting to PeriodArray/Index representation will drop timezone information.\n",
      "  df['month'] = df['event_time'].dt.to_period('M')  # Extract the month\n"
     ]
    },
    {
     "data": {
      "text/plain": [
       "month\n",
       "2020-09     15387\n",
       "2020-10     88849\n",
       "2020-11    106635\n",
       "2020-12     88490\n",
       "2021-01    115234\n",
       "2021-02    101260\n",
       "Freq: M, dtype: int64"
      ]
     },
     "execution_count": 41,
     "metadata": {},
     "output_type": "execute_result"
    }
   ],
   "source": [
    "df['event_time'] = pd.to_datetime(df['event_time'])  # Ensure event_time is in datetime format\n",
    "df['month'] = df['event_time'].dt.to_period('M')  # Extract the month\n",
    "\n",
    "columns_per_month = df.groupby('month').size()\n",
    "columns_per_month"
   ]
  },
  {
   "cell_type": "code",
   "execution_count": 42,
   "metadata": {},
   "outputs": [
    {
     "data": {
      "text/plain": [
       "month    event_type\n",
       "2020-09  cart             834\n",
       "         purchase         588\n",
       "         view           13965\n",
       "2020-10  cart            5123\n",
       "         purchase        3659\n",
       "         view           80067\n",
       "2020-11  cart            6459\n",
       "         purchase        4544\n",
       "         view           95632\n",
       "2020-12  cart            5873\n",
       "         purchase        3961\n",
       "         view           78656\n",
       "2021-01  cart            8652\n",
       "         purchase        5415\n",
       "         view          101167\n",
       "2021-02  cart            7727\n",
       "         purchase        4938\n",
       "         view           88595\n",
       "dtype: int64"
      ]
     },
     "execution_count": 42,
     "metadata": {},
     "output_type": "execute_result"
    }
   ],
   "source": [
    "df.groupby(['month', 'event_type']).size()"
   ]
  }
 ],
 "metadata": {
  "kernelspec": {
   "display_name": "nltk",
   "language": "python",
   "name": "python3"
  },
  "language_info": {
   "codemirror_mode": {
    "name": "ipython",
    "version": 3
   },
   "file_extension": ".py",
   "mimetype": "text/x-python",
   "name": "python",
   "nbconvert_exporter": "python",
   "pygments_lexer": "ipython3",
   "version": "3.8.20"
  }
 },
 "nbformat": 4,
 "nbformat_minor": 2
}
